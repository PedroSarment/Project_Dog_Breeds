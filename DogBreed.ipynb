{
  "nbformat": 4,
  "nbformat_minor": 0,
  "metadata": {
    "colab": {
      "provenance": [],
      "authorship_tag": "ABX9TyOktmYM+6QbrGEtUWyeUJLM",
      "include_colab_link": true
    },
    "kernelspec": {
      "name": "python3",
      "display_name": "Python 3"
    },
    "language_info": {
      "name": "python"
    },
    "widgets": {
      "application/vnd.jupyter.widget-state+json": {
        "8bfb825f33c54011b79a8cff5ed2b9bb": {
          "model_module": "@jupyter-widgets/controls",
          "model_name": "VBoxModel",
          "model_module_version": "1.5.0",
          "state": {
            "_dom_classes": [],
            "_model_module": "@jupyter-widgets/controls",
            "_model_module_version": "1.5.0",
            "_model_name": "VBoxModel",
            "_view_count": null,
            "_view_module": "@jupyter-widgets/controls",
            "_view_module_version": "1.5.0",
            "_view_name": "VBoxView",
            "box_style": "",
            "children": [
              "IPY_MODEL_7f3c985a16c64af2ada317593d5070e4",
              "IPY_MODEL_61644b0bf5574a08a4d4094c837ad5de",
              "IPY_MODEL_c6d94560f84f4039bc75afae618e9130",
              "IPY_MODEL_f4a83f9b59eb44d9a17a876959717665"
            ],
            "layout": "IPY_MODEL_3d779553fcfd464cbec255e26fb705d7"
          }
        },
        "7f3c985a16c64af2ada317593d5070e4": {
          "model_module": "@jupyter-widgets/controls",
          "model_name": "LabelModel",
          "model_module_version": "1.5.0",
          "state": {
            "_dom_classes": [],
            "_model_module": "@jupyter-widgets/controls",
            "_model_module_version": "1.5.0",
            "_model_name": "LabelModel",
            "_view_count": null,
            "_view_module": "@jupyter-widgets/controls",
            "_view_module_version": "1.5.0",
            "_view_name": "LabelView",
            "description": "",
            "description_tooltip": null,
            "layout": "IPY_MODEL_d4540fb741994270a9b876932f560952",
            "placeholder": "​",
            "style": "IPY_MODEL_4ce59822778e4ec89412b1632b37c24f",
            "value": "Upload a Photo of your Dog"
          }
        },
        "61644b0bf5574a08a4d4094c837ad5de": {
          "model_module": "@jupyter-widgets/controls",
          "model_name": "FileUploadModel",
          "model_module_version": "1.5.0",
          "state": {
            "_counter": 1,
            "_dom_classes": [],
            "_model_module": "@jupyter-widgets/controls",
            "_model_module_version": "1.5.0",
            "_model_name": "FileUploadModel",
            "_view_count": null,
            "_view_module": "@jupyter-widgets/controls",
            "_view_module_version": "1.5.0",
            "_view_name": "FileUploadView",
            "accept": "",
            "button_style": "",
            "data": [
              null
            ],
            "description": "Upload",
            "description_tooltip": null,
            "disabled": false,
            "error": "",
            "icon": "upload",
            "layout": "IPY_MODEL_cceec28d0cad4bf18aa9f199513a4e74",
            "metadata": [
              {
                "name": "f4f07e99391031d4db9a6919bfa7440e.jpg",
                "type": "image/jpeg",
                "size": 25502,
                "lastModified": 1662562525109
              }
            ],
            "multiple": false,
            "style": "IPY_MODEL_c6bb8a3133c74b069eb4a3d19da8c8f9"
          }
        },
        "c6d94560f84f4039bc75afae618e9130": {
          "model_module": "@jupyter-widgets/output",
          "model_name": "OutputModel",
          "model_module_version": "1.0.0",
          "state": {
            "_dom_classes": [],
            "_model_module": "@jupyter-widgets/output",
            "_model_module_version": "1.0.0",
            "_model_name": "OutputModel",
            "_view_count": null,
            "_view_module": "@jupyter-widgets/output",
            "_view_module_version": "1.0.0",
            "_view_name": "OutputView",
            "layout": "IPY_MODEL_073e6cb2409b4fa1b280401464b2824e",
            "msg_id": "",
            "outputs": [
              {
                "output_type": "display_data",
                "data": {
                  "text/plain": "<PIL.Image.Image image mode=RGB size=128x87>",
                  "image/png": "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\n"
                },
                "metadata": {}
              }
            ]
          }
        },
        "f4a83f9b59eb44d9a17a876959717665": {
          "model_module": "@jupyter-widgets/controls",
          "model_name": "LabelModel",
          "model_module_version": "1.5.0",
          "state": {
            "_dom_classes": [],
            "_model_module": "@jupyter-widgets/controls",
            "_model_module_version": "1.5.0",
            "_model_name": "LabelModel",
            "_view_count": null,
            "_view_module": "@jupyter-widgets/controls",
            "_view_module_version": "1.5.0",
            "_view_name": "LabelView",
            "description": "",
            "description_tooltip": null,
            "layout": "IPY_MODEL_1f8890a9a03a40979356823aff05b2db",
            "placeholder": "​",
            "style": "IPY_MODEL_8cedc90c91c94d649f6effcae9660283",
            "value": "Prediction: dachshund; Probability: 0.8820"
          }
        },
        "3d779553fcfd464cbec255e26fb705d7": {
          "model_module": "@jupyter-widgets/base",
          "model_name": "LayoutModel",
          "model_module_version": "1.2.0",
          "state": {
            "_model_module": "@jupyter-widgets/base",
            "_model_module_version": "1.2.0",
            "_model_name": "LayoutModel",
            "_view_count": null,
            "_view_module": "@jupyter-widgets/base",
            "_view_module_version": "1.2.0",
            "_view_name": "LayoutView",
            "align_content": null,
            "align_items": null,
            "align_self": null,
            "border": null,
            "bottom": null,
            "display": null,
            "flex": null,
            "flex_flow": null,
            "grid_area": null,
            "grid_auto_columns": null,
            "grid_auto_flow": null,
            "grid_auto_rows": null,
            "grid_column": null,
            "grid_gap": null,
            "grid_row": null,
            "grid_template_areas": null,
            "grid_template_columns": null,
            "grid_template_rows": null,
            "height": null,
            "justify_content": null,
            "justify_items": null,
            "left": null,
            "margin": null,
            "max_height": null,
            "max_width": null,
            "min_height": null,
            "min_width": null,
            "object_fit": null,
            "object_position": null,
            "order": null,
            "overflow": null,
            "overflow_x": null,
            "overflow_y": null,
            "padding": null,
            "right": null,
            "top": null,
            "visibility": null,
            "width": null
          }
        },
        "d4540fb741994270a9b876932f560952": {
          "model_module": "@jupyter-widgets/base",
          "model_name": "LayoutModel",
          "model_module_version": "1.2.0",
          "state": {
            "_model_module": "@jupyter-widgets/base",
            "_model_module_version": "1.2.0",
            "_model_name": "LayoutModel",
            "_view_count": null,
            "_view_module": "@jupyter-widgets/base",
            "_view_module_version": "1.2.0",
            "_view_name": "LayoutView",
            "align_content": null,
            "align_items": null,
            "align_self": null,
            "border": null,
            "bottom": null,
            "display": null,
            "flex": null,
            "flex_flow": null,
            "grid_area": null,
            "grid_auto_columns": null,
            "grid_auto_flow": null,
            "grid_auto_rows": null,
            "grid_column": null,
            "grid_gap": null,
            "grid_row": null,
            "grid_template_areas": null,
            "grid_template_columns": null,
            "grid_template_rows": null,
            "height": null,
            "justify_content": null,
            "justify_items": null,
            "left": null,
            "margin": null,
            "max_height": null,
            "max_width": null,
            "min_height": null,
            "min_width": null,
            "object_fit": null,
            "object_position": null,
            "order": null,
            "overflow": null,
            "overflow_x": null,
            "overflow_y": null,
            "padding": null,
            "right": null,
            "top": null,
            "visibility": null,
            "width": null
          }
        },
        "4ce59822778e4ec89412b1632b37c24f": {
          "model_module": "@jupyter-widgets/controls",
          "model_name": "DescriptionStyleModel",
          "model_module_version": "1.5.0",
          "state": {
            "_model_module": "@jupyter-widgets/controls",
            "_model_module_version": "1.5.0",
            "_model_name": "DescriptionStyleModel",
            "_view_count": null,
            "_view_module": "@jupyter-widgets/base",
            "_view_module_version": "1.2.0",
            "_view_name": "StyleView",
            "description_width": ""
          }
        },
        "cceec28d0cad4bf18aa9f199513a4e74": {
          "model_module": "@jupyter-widgets/base",
          "model_name": "LayoutModel",
          "model_module_version": "1.2.0",
          "state": {
            "_model_module": "@jupyter-widgets/base",
            "_model_module_version": "1.2.0",
            "_model_name": "LayoutModel",
            "_view_count": null,
            "_view_module": "@jupyter-widgets/base",
            "_view_module_version": "1.2.0",
            "_view_name": "LayoutView",
            "align_content": null,
            "align_items": null,
            "align_self": null,
            "border": null,
            "bottom": null,
            "display": null,
            "flex": null,
            "flex_flow": null,
            "grid_area": null,
            "grid_auto_columns": null,
            "grid_auto_flow": null,
            "grid_auto_rows": null,
            "grid_column": null,
            "grid_gap": null,
            "grid_row": null,
            "grid_template_areas": null,
            "grid_template_columns": null,
            "grid_template_rows": null,
            "height": null,
            "justify_content": null,
            "justify_items": null,
            "left": null,
            "margin": null,
            "max_height": null,
            "max_width": null,
            "min_height": null,
            "min_width": null,
            "object_fit": null,
            "object_position": null,
            "order": null,
            "overflow": null,
            "overflow_x": null,
            "overflow_y": null,
            "padding": null,
            "right": null,
            "top": null,
            "visibility": null,
            "width": null
          }
        },
        "c6bb8a3133c74b069eb4a3d19da8c8f9": {
          "model_module": "@jupyter-widgets/controls",
          "model_name": "ButtonStyleModel",
          "model_module_version": "1.5.0",
          "state": {
            "_model_module": "@jupyter-widgets/controls",
            "_model_module_version": "1.5.0",
            "_model_name": "ButtonStyleModel",
            "_view_count": null,
            "_view_module": "@jupyter-widgets/base",
            "_view_module_version": "1.2.0",
            "_view_name": "StyleView",
            "button_color": null,
            "font_weight": ""
          }
        },
        "1f8890a9a03a40979356823aff05b2db": {
          "model_module": "@jupyter-widgets/base",
          "model_name": "LayoutModel",
          "model_module_version": "1.2.0",
          "state": {
            "_model_module": "@jupyter-widgets/base",
            "_model_module_version": "1.2.0",
            "_model_name": "LayoutModel",
            "_view_count": null,
            "_view_module": "@jupyter-widgets/base",
            "_view_module_version": "1.2.0",
            "_view_name": "LayoutView",
            "align_content": null,
            "align_items": null,
            "align_self": null,
            "border": null,
            "bottom": null,
            "display": null,
            "flex": null,
            "flex_flow": null,
            "grid_area": null,
            "grid_auto_columns": null,
            "grid_auto_flow": null,
            "grid_auto_rows": null,
            "grid_column": null,
            "grid_gap": null,
            "grid_row": null,
            "grid_template_areas": null,
            "grid_template_columns": null,
            "grid_template_rows": null,
            "height": null,
            "justify_content": null,
            "justify_items": null,
            "left": null,
            "margin": null,
            "max_height": null,
            "max_width": null,
            "min_height": null,
            "min_width": null,
            "object_fit": null,
            "object_position": null,
            "order": null,
            "overflow": null,
            "overflow_x": null,
            "overflow_y": null,
            "padding": null,
            "right": null,
            "top": null,
            "visibility": null,
            "width": null
          }
        },
        "8cedc90c91c94d649f6effcae9660283": {
          "model_module": "@jupyter-widgets/controls",
          "model_name": "DescriptionStyleModel",
          "model_module_version": "1.5.0",
          "state": {
            "_model_module": "@jupyter-widgets/controls",
            "_model_module_version": "1.5.0",
            "_model_name": "DescriptionStyleModel",
            "_view_count": null,
            "_view_module": "@jupyter-widgets/base",
            "_view_module_version": "1.2.0",
            "_view_name": "StyleView",
            "description_width": ""
          }
        },
        "073e6cb2409b4fa1b280401464b2824e": {
          "model_module": "@jupyter-widgets/base",
          "model_name": "LayoutModel",
          "model_module_version": "1.2.0",
          "state": {
            "_model_module": "@jupyter-widgets/base",
            "_model_module_version": "1.2.0",
            "_model_name": "LayoutModel",
            "_view_count": null,
            "_view_module": "@jupyter-widgets/base",
            "_view_module_version": "1.2.0",
            "_view_name": "LayoutView",
            "align_content": null,
            "align_items": null,
            "align_self": null,
            "border": null,
            "bottom": null,
            "display": null,
            "flex": null,
            "flex_flow": null,
            "grid_area": null,
            "grid_auto_columns": null,
            "grid_auto_flow": null,
            "grid_auto_rows": null,
            "grid_column": null,
            "grid_gap": null,
            "grid_row": null,
            "grid_template_areas": null,
            "grid_template_columns": null,
            "grid_template_rows": null,
            "height": null,
            "justify_content": null,
            "justify_items": null,
            "left": null,
            "margin": null,
            "max_height": null,
            "max_width": null,
            "min_height": null,
            "min_width": null,
            "object_fit": null,
            "object_position": null,
            "order": null,
            "overflow": null,
            "overflow_x": null,
            "overflow_y": null,
            "padding": null,
            "right": null,
            "top": null,
            "visibility": null,
            "width": null
          }
        }
      }
    }
  },
  "cells": [
    {
      "cell_type": "markdown",
      "metadata": {
        "id": "view-in-github",
        "colab_type": "text"
      },
      "source": [
        "<a href=\"https://colab.research.google.com/github/PedroSarment/Project_Dog_Breeds/blob/main/DogBreed.ipynb\" target=\"_parent\"><img src=\"https://colab.research.google.com/assets/colab-badge.svg\" alt=\"Open In Colab\"/></a>"
      ]
    },
    {
      "cell_type": "markdown",
      "source": [
        "##Would you like to know your Dog's Breed?\n"
      ],
      "metadata": {
        "id": "Y-jod6JrzVgy"
      }
    },
    {
      "cell_type": "code",
      "source": [
        "from fastai.vision.all import *\n",
        "from fastai.vision.widgets import *"
      ],
      "metadata": {
        "id": "QG5_vLgb4qQ8"
      },
      "execution_count": 9,
      "outputs": []
    },
    {
      "cell_type": "code",
      "source": [
        "path = Path()\n",
        "learn_inf = load_learner(path/'export.pkl', cpu=True)\n",
        "btn_upload = widgets.FileUpload()\n",
        "out_pl = widgets.Output()\n",
        "lbl_pred = widgets.Label()"
      ],
      "metadata": {
        "id": "9EDI9h_Q4sqy"
      },
      "execution_count": 18,
      "outputs": []
    },
    {
      "cell_type": "code",
      "source": [
        "def on_data_change(change):\n",
        "    lbl_pred.value = ''\n",
        "    img = PILImage.create(btn_upload.data[-1])\n",
        "    out_pl.clear_output()\n",
        "    with out_pl: display(img.to_thumb(128,128))\n",
        "    pred,pred_idx,probs = learn_inf.predict(img)\n",
        "    lbl_pred.value = f'Prediction: {pred}; Probability: {probs[pred_idx]:.04f}'"
      ],
      "metadata": {
        "id": "SdhQM0W24uIZ"
      },
      "execution_count": 19,
      "outputs": []
    },
    {
      "cell_type": "code",
      "source": [
        "btn_upload.observe(on_data_change, names=['data'])\n"
      ],
      "metadata": {
        "id": "sLCFg-P-4vYB"
      },
      "execution_count": 20,
      "outputs": []
    },
    {
      "cell_type": "code",
      "source": [
        "display(VBox([widgets.Label('Upload a Photo of your Dog'), btn_upload, out_pl, lbl_pred]))\n"
      ],
      "metadata": {
        "colab": {
          "base_uri": "https://localhost:8080/",
          "height": 200,
          "referenced_widgets": [
            "8bfb825f33c54011b79a8cff5ed2b9bb",
            "7f3c985a16c64af2ada317593d5070e4",
            "61644b0bf5574a08a4d4094c837ad5de",
            "c6d94560f84f4039bc75afae618e9130",
            "f4a83f9b59eb44d9a17a876959717665",
            "3d779553fcfd464cbec255e26fb705d7",
            "d4540fb741994270a9b876932f560952",
            "4ce59822778e4ec89412b1632b37c24f",
            "cceec28d0cad4bf18aa9f199513a4e74",
            "c6bb8a3133c74b069eb4a3d19da8c8f9",
            "1f8890a9a03a40979356823aff05b2db",
            "8cedc90c91c94d649f6effcae9660283",
            "073e6cb2409b4fa1b280401464b2824e"
          ]
        },
        "id": "PBsWYO_D4vd5",
        "outputId": "071f8431-8507-402b-ae67-e9d7f1ea9f05"
      },
      "execution_count": 21,
      "outputs": [
        {
          "output_type": "display_data",
          "data": {
            "text/plain": [
              "VBox(children=(Label(value='Upload a Photo of your Dog'), FileUpload(value={}, description='Upload'), Output()…"
            ],
            "application/vnd.jupyter.widget-view+json": {
              "version_major": 2,
              "version_minor": 0,
              "model_id": "8bfb825f33c54011b79a8cff5ed2b9bb"
            }
          },
          "metadata": {}
        },
        {
          "output_type": "display_data",
          "data": {
            "text/plain": [
              "<IPython.core.display.HTML object>"
            ],
            "text/html": [
              "\n",
              "<style>\n",
              "    /* Turns off some styling */\n",
              "    progress {\n",
              "        /* gets rid of default border in Firefox and Opera. */\n",
              "        border: none;\n",
              "        /* Needs to be in here for Safari polyfill so background images work as expected. */\n",
              "        background-size: auto;\n",
              "    }\n",
              "    progress:not([value]), progress:not([value])::-webkit-progress-bar {\n",
              "        background: repeating-linear-gradient(45deg, #7e7e7e, #7e7e7e 10px, #5c5c5c 10px, #5c5c5c 20px);\n",
              "    }\n",
              "    .progress-bar-interrupted, .progress-bar-interrupted::-webkit-progress-bar {\n",
              "        background: #F44336;\n",
              "    }\n",
              "</style>\n"
            ]
          },
          "metadata": {}
        },
        {
          "output_type": "display_data",
          "data": {
            "text/plain": [
              "<IPython.core.display.HTML object>"
            ],
            "text/html": []
          },
          "metadata": {}
        }
      ]
    }
  ]
}